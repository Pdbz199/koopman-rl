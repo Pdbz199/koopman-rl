{
 "cells": [
  {
   "cell_type": "code",
   "execution_count": 1,
   "metadata": {},
   "outputs": [],
   "source": [
    "import os\n",
    "if os.getcwd().split('\\\\')[-1] != 'koopman-rl' and os.getcwd().split('/')[-1] != 'koopman-rl':\n",
    "    os.chdir('../')"
   ]
  },
  {
   "cell_type": "code",
   "execution_count": null,
   "metadata": {},
   "outputs": [],
   "source": [
    "import numpy as np\n",
    "import pandas as pd\n",
    "\n",
    "from movies.env_enum import EnvEnum"
   ]
  },
  {
   "cell_type": "code",
   "execution_count": null,
   "metadata": {},
   "outputs": [],
   "source": [
    "class Args:\n",
    "    def __init__(self, data_folder: str, ma_window_size: int):\n",
    "        self.data_folder = data_folder\n",
    "        self.ma_window_size = ma_window_size\n",
    "\n",
    "    def __str__(self):\n",
    "        return f\"data_folder: {self.data_folder}, ma_window_size: {self.ma_window_size}\"\n",
    "\n",
    "data_folder_paths = {\n",
    "    EnvEnum.LinearSystem: \"./video_frames/LinearSystem-v0_1733955895\",\n",
    "    EnvEnum.FluidFlow: \"./video_frames/FluidFlow-v0_1733955905\",\n",
    "    EnvEnum.Lorenz: \"./video_frames/Lorenz-v0_1733955911\",\n",
    "    EnvEnum.DoubleWell: \"./video_frames/DoubleWell-v0_1733955917\"\n",
    "}\n",
    "\n",
    "args = Args(\n",
    "    # data_folder=data_folder_paths[EnvEnum.LinearSystem],\n",
    "    # data_folder=data_folder_paths[EnvEnum.FluidFlow],\n",
    "    # data_folder=data_folder_paths[EnvEnum.Lorenz],\n",
    "    data_folder=data_folder_paths[EnvEnum.DoubleWell],\n",
    "\n",
    "    # ma_window_size=20,\n",
    "    ma_window_size=200,\n",
    ")\n",
    "\n",
    "print(args)"
   ]
  },
  {
   "cell_type": "code",
   "execution_count": null,
   "metadata": {},
   "outputs": [],
   "source": [
    "# Load main policy data\n",
    "main_policy_trajectories = np.load(f\"{args.data_folder}/main_policy_trajectories.npy\")\n",
    "main_policy_costs = np.load(f\"{args.data_folder}/main_policy_costs.npy\")\n",
    "\n",
    "# Load baseline policy data\n",
    "baseline_trajectories = np.load(f\"{args.data_folder}/baseline_policy_trajectories.npy\")\n",
    "baseline_policy_costs = np.load(f\"{args.data_folder}/baseline_policy_costs.npy\")\n",
    "\n",
    "#  Load zero policy data\n",
    "zero_trajectories = np.load(f\"{args.data_folder}/zero_policy_trajectories.npy\")\n",
    "zero_costs = np.load(f\"{args.data_folder}/zero_policy_costs.npy\")\n",
    "\n",
    "# Load metadata\n",
    "metadata = np.load(f\"{args.data_folder}/metadata.npy\", allow_pickle=True).item()\n",
    "\n",
    "# Extract env_id\n",
    "env_id = metadata['env_id']\n",
    "print(env_id)"
   ]
  },
  {
   "cell_type": "code",
   "execution_count": 5,
   "metadata": {},
   "outputs": [],
   "source": [
    "# Function to compute moving average, preserving the first n values\n",
    "def moving_average(a, n, keep_first):\n",
    "    ret = np.cumsum(a, dtype=float)\n",
    "    ret[n:] = ret[n:] - ret[:-n]\n",
    "    moving_avg = ret[n - 1:] / n\n",
    "\n",
    "    # If `keep_first` is True, concatenate the first n-1 values of the original array\n",
    "    if keep_first:\n",
    "        result = np.concatenate((a[:n - 1], moving_avg))\n",
    "        print(result.shape)\n",
    "    else:\n",
    "        result = moving_avg\n",
    "\n",
    "    return result\n",
    "\n",
    "log_cost_ratio = np.log( main_policy_costs[0] / baseline_policy_costs[0] )\n",
    "ma_log_cost_ratio = moving_average(log_cost_ratio, args.ma_window_size, keep_first=False)\n",
    "\n",
    "# Pad ma_log_cost_ratio with Nones\n",
    "ma_log_cost_ratio = ma_log_cost_ratio.tolist()\n",
    "for _ in range(len(log_cost_ratio) - len(ma_log_cost_ratio)):\n",
    "    ma_log_cost_ratio.insert(0, None)\n",
    "ma_log_cost_ratio = np.array(ma_log_cost_ratio)"
   ]
  },
  {
   "cell_type": "code",
   "execution_count": null,
   "metadata": {},
   "outputs": [],
   "source": [
    "# Create DataFrame of trajectories and costs\n",
    "df = pd.DataFrame(\n",
    "    {\n",
    "        f\"main_x0\": main_policy_trajectories[0,:,0],\n",
    "        f\"main_x1\": main_policy_trajectories[0,:,1],\n",
    "        f\"main_x2\": main_policy_trajectories[0,:,2],\n",
    "        f\"baseline_x0\": baseline_trajectories[0,:,0],\n",
    "        f\"baseline_x1\": baseline_trajectories[0,:,1],\n",
    "        f\"baseline_x2\": baseline_trajectories[0,:,2],\n",
    "        f\"uncontrolled_x0\": zero_trajectories[0,:,0],\n",
    "        f\"uncontrolled_x1\": zero_trajectories[0,:,1],\n",
    "        f\"uncontrolled_x2\": zero_trajectories[0,:,2],\n",
    "        f\"log_cost_ratio\": log_cost_ratio,\n",
    "        f\"ma_log_cost_ratio\": ma_log_cost_ratio,\n",
    "    },\n",
    "    index=range(len(main_policy_trajectories[0]))\n",
    ")\n",
    "\n",
    "df"
   ]
  },
  {
   "cell_type": "code",
   "execution_count": 7,
   "metadata": {},
   "outputs": [],
   "source": [
    "df.to_csv(f\"{args.data_folder}/{env_id}_trajectory_data.csv\")"
   ]
  }
 ],
 "metadata": {
  "kernelspec": {
   "display_name": "venv",
   "language": "python",
   "name": "python3"
  },
  "language_info": {
   "codemirror_mode": {
    "name": "ipython",
    "version": 3
   },
   "file_extension": ".py",
   "mimetype": "text/x-python",
   "name": "python",
   "nbconvert_exporter": "python",
   "pygments_lexer": "ipython3",
   "version": "3.8.10"
  }
 },
 "nbformat": 4,
 "nbformat_minor": 2
}
